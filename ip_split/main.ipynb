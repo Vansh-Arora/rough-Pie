{
 "cells": [
  {
   "source": [
    "# Part 1"
   ],
   "cell_type": "markdown",
   "metadata": {}
  },
  {
   "cell_type": "code",
   "execution_count": 1,
   "metadata": {},
   "outputs": [],
   "source": [
    "import pandas as pd"
   ]
  },
  {
   "cell_type": "code",
   "execution_count": 2,
   "metadata": {},
   "outputs": [],
   "source": [
    "path1 = r\"F:\\\\rough-Pie\\\\ip_split\\\\ItoI.csv\"\n",
    "path2 = r\"F:\\\\rough-Pie\\\\ip_split\\\\EtoI.csv\""
   ]
  },
  {
   "cell_type": "code",
   "execution_count": 3,
   "metadata": {},
   "outputs": [],
   "source": [
    "II = pd.read_csv(path1)\n",
    "EI = pd.read_csv(path2)"
   ]
  },
  {
   "source": [
    "# Internal to Internal"
   ],
   "cell_type": "markdown",
   "metadata": {}
  },
  {
   "cell_type": "code",
   "execution_count": 4,
   "metadata": {},
   "outputs": [
    {
     "output_type": "execute_result",
     "data": {
      "text/plain": [
       "   Severity                           Rule Message  \\\n",
       "0        25  CS_OutBound_NTP_Attack Event Detected   \n",
       "1        25  CS_OutBound_NTP_Attack Event Detected   \n",
       "2        25  CS_OutBound_NTP_Attack Event Detected   \n",
       "3        25  CS_OutBound_NTP_Attack Event Detected   \n",
       "4        25  CS_OutBound_NTP_Attack Event Detected   \n",
       "\n",
       "                                         Subcategory  Event Count  \\\n",
       "0  P2P Torrent Traffic 5 attack detected but not ...            1   \n",
       "1  P2P Torrent Traffic 5 attack detected but not ...            1   \n",
       "2  P2P Torrent Traffic 5 attack detected but not ...            1   \n",
       "3  P2P Torrent Traffic 5 attack detected but not ...            1   \n",
       "4  P2P Torrent Traffic 5 attack detected but not ...            1   \n",
       "\n",
       "       Source IP Source Port Destination IP  Destination Port Protocol  \\\n",
       "0  10.137.216.17        http   10.141.49.44             54556      tcp   \n",
       "1  10.137.216.10        http   10.141.49.44             19261      tcp   \n",
       "2  10.137.216.34        http   10.141.49.44             65103      tcp   \n",
       "3  10.137.216.10        http   10.141.49.44             19261      tcp   \n",
       "4  10.137.216.34        http   10.141.49.44             27182      tcp   \n",
       "\n",
       "             Last Time                                                URL  \\\n",
       "0  08-04-2021 22:30:22  http://jiocontactcenter.ril.com:4443/Citrix/JI...   \n",
       "1  08-04-2021 22:15:40  http://jiocontactcenter.ril.com:4443/Citrix/JI...   \n",
       "2  08-04-2021 22:15:38  http://jiocontactcenter.ril.com:4443/Citrix/JI...   \n",
       "3  08-04-2021 22:15:38  http://jiocontactcenter.ril.com:4443/Citrix/JI...   \n",
       "4  08-04-2021 21:17:46  http://jiocontactcenter.ril.com:4443/Citrix/JI...   \n",
       "\n",
       "  Event Subtype  \n",
       "0         alert  \n",
       "1         alert  \n",
       "2         alert  \n",
       "3         alert  \n",
       "4         alert  "
      ],
      "text/html": "<div>\n<style scoped>\n    .dataframe tbody tr th:only-of-type {\n        vertical-align: middle;\n    }\n\n    .dataframe tbody tr th {\n        vertical-align: top;\n    }\n\n    .dataframe thead th {\n        text-align: right;\n    }\n</style>\n<table border=\"1\" class=\"dataframe\">\n  <thead>\n    <tr style=\"text-align: right;\">\n      <th></th>\n      <th>Severity</th>\n      <th>Rule Message</th>\n      <th>Subcategory</th>\n      <th>Event Count</th>\n      <th>Source IP</th>\n      <th>Source Port</th>\n      <th>Destination IP</th>\n      <th>Destination Port</th>\n      <th>Protocol</th>\n      <th>Last Time</th>\n      <th>URL</th>\n      <th>Event Subtype</th>\n    </tr>\n  </thead>\n  <tbody>\n    <tr>\n      <th>0</th>\n      <td>25</td>\n      <td>CS_OutBound_NTP_Attack Event Detected</td>\n      <td>P2P Torrent Traffic 5 attack detected but not ...</td>\n      <td>1</td>\n      <td>10.137.216.17</td>\n      <td>http</td>\n      <td>10.141.49.44</td>\n      <td>54556</td>\n      <td>tcp</td>\n      <td>08-04-2021 22:30:22</td>\n      <td>http://jiocontactcenter.ril.com:4443/Citrix/JI...</td>\n      <td>alert</td>\n    </tr>\n    <tr>\n      <th>1</th>\n      <td>25</td>\n      <td>CS_OutBound_NTP_Attack Event Detected</td>\n      <td>P2P Torrent Traffic 5 attack detected but not ...</td>\n      <td>1</td>\n      <td>10.137.216.10</td>\n      <td>http</td>\n      <td>10.141.49.44</td>\n      <td>19261</td>\n      <td>tcp</td>\n      <td>08-04-2021 22:15:40</td>\n      <td>http://jiocontactcenter.ril.com:4443/Citrix/JI...</td>\n      <td>alert</td>\n    </tr>\n    <tr>\n      <th>2</th>\n      <td>25</td>\n      <td>CS_OutBound_NTP_Attack Event Detected</td>\n      <td>P2P Torrent Traffic 5 attack detected but not ...</td>\n      <td>1</td>\n      <td>10.137.216.34</td>\n      <td>http</td>\n      <td>10.141.49.44</td>\n      <td>65103</td>\n      <td>tcp</td>\n      <td>08-04-2021 22:15:38</td>\n      <td>http://jiocontactcenter.ril.com:4443/Citrix/JI...</td>\n      <td>alert</td>\n    </tr>\n    <tr>\n      <th>3</th>\n      <td>25</td>\n      <td>CS_OutBound_NTP_Attack Event Detected</td>\n      <td>P2P Torrent Traffic 5 attack detected but not ...</td>\n      <td>1</td>\n      <td>10.137.216.10</td>\n      <td>http</td>\n      <td>10.141.49.44</td>\n      <td>19261</td>\n      <td>tcp</td>\n      <td>08-04-2021 22:15:38</td>\n      <td>http://jiocontactcenter.ril.com:4443/Citrix/JI...</td>\n      <td>alert</td>\n    </tr>\n    <tr>\n      <th>4</th>\n      <td>25</td>\n      <td>CS_OutBound_NTP_Attack Event Detected</td>\n      <td>P2P Torrent Traffic 5 attack detected but not ...</td>\n      <td>1</td>\n      <td>10.137.216.34</td>\n      <td>http</td>\n      <td>10.141.49.44</td>\n      <td>27182</td>\n      <td>tcp</td>\n      <td>08-04-2021 21:17:46</td>\n      <td>http://jiocontactcenter.ril.com:4443/Citrix/JI...</td>\n      <td>alert</td>\n    </tr>\n  </tbody>\n</table>\n</div>"
     },
     "metadata": {},
     "execution_count": 4
    }
   ],
   "source": [
    "II.head()"
   ]
  },
  {
   "source": [
    "# External to Internal"
   ],
   "cell_type": "markdown",
   "metadata": {}
  },
  {
   "cell_type": "code",
   "execution_count": 5,
   "metadata": {},
   "outputs": [
    {
     "output_type": "execute_result",
     "data": {
      "text/plain": [
       "   Severity                           Rule Message  \\\n",
       "0        25  CS_OutBound_NTP_Attack Event Detected   \n",
       "1        25   CS_InBound_NTP_Attack Event Detected   \n",
       "2        25   CS_InBound_NTP_Attack Event Detected   \n",
       "3        25   CS_InBound_NTP_Attack Event Detected   \n",
       "4        25   CS_InBound_NTP_Attack Event Detected   \n",
       "\n",
       "                                         Subcategory  Event Count  \\\n",
       "0  Malicious Scan Attempt 2 attack detected but n...            1   \n",
       "1     D-Link Router Command Injection attack blocked            1   \n",
       "2     D-Link Router Command Injection attack blocked            1   \n",
       "3  RDP Bruteforce Attempt 2 attack detected but n...            1   \n",
       "4         Remote OS Command Injection attack blocked            1   \n",
       "\n",
       "        Source IP Source Port  Destination IP Destination Port Protocol  \\\n",
       "0    47.89.192.12        http    10.63.58.173            45772      tcp   \n",
       "1  103.217.123.42       26393    10.63.58.173          http:80      tcp   \n",
       "2  116.120.108.26        4439   10.135.130.72                0      tcp   \n",
       "3     1.55.212.66       56235   10.144.34.109                0      tcp   \n",
       "4    62.16.51.110       51173  10.135.132.152                0      tcp   \n",
       "\n",
       "             Last Time                                                URL  \\\n",
       "0  09-04-2021 07:47:36                               http://49.40.26.149/   \n",
       "1  09-04-2021 07:43:53                      http://49.40.26.149:80/HNAP1/   \n",
       "2  09-04-2021 07:10:17                        http://49.40.8.35:80/HNAP1/   \n",
       "3  09-04-2021 06:39:04                                                NaN   \n",
       "4  09-04-2021 04:29:03  http:///setup.cgi?next_file=netgear.cfg&todo=s...   \n",
       "\n",
       "  Event Subtype  \n",
       "0         alert  \n",
       "1         alert  \n",
       "2         alert  \n",
       "3         alert  \n",
       "4         alert  "
      ],
      "text/html": "<div>\n<style scoped>\n    .dataframe tbody tr th:only-of-type {\n        vertical-align: middle;\n    }\n\n    .dataframe tbody tr th {\n        vertical-align: top;\n    }\n\n    .dataframe thead th {\n        text-align: right;\n    }\n</style>\n<table border=\"1\" class=\"dataframe\">\n  <thead>\n    <tr style=\"text-align: right;\">\n      <th></th>\n      <th>Severity</th>\n      <th>Rule Message</th>\n      <th>Subcategory</th>\n      <th>Event Count</th>\n      <th>Source IP</th>\n      <th>Source Port</th>\n      <th>Destination IP</th>\n      <th>Destination Port</th>\n      <th>Protocol</th>\n      <th>Last Time</th>\n      <th>URL</th>\n      <th>Event Subtype</th>\n    </tr>\n  </thead>\n  <tbody>\n    <tr>\n      <th>0</th>\n      <td>25</td>\n      <td>CS_OutBound_NTP_Attack Event Detected</td>\n      <td>Malicious Scan Attempt 2 attack detected but n...</td>\n      <td>1</td>\n      <td>47.89.192.12</td>\n      <td>http</td>\n      <td>10.63.58.173</td>\n      <td>45772</td>\n      <td>tcp</td>\n      <td>09-04-2021 07:47:36</td>\n      <td>http://49.40.26.149/</td>\n      <td>alert</td>\n    </tr>\n    <tr>\n      <th>1</th>\n      <td>25</td>\n      <td>CS_InBound_NTP_Attack Event Detected</td>\n      <td>D-Link Router Command Injection attack blocked</td>\n      <td>1</td>\n      <td>103.217.123.42</td>\n      <td>26393</td>\n      <td>10.63.58.173</td>\n      <td>http:80</td>\n      <td>tcp</td>\n      <td>09-04-2021 07:43:53</td>\n      <td>http://49.40.26.149:80/HNAP1/</td>\n      <td>alert</td>\n    </tr>\n    <tr>\n      <th>2</th>\n      <td>25</td>\n      <td>CS_InBound_NTP_Attack Event Detected</td>\n      <td>D-Link Router Command Injection attack blocked</td>\n      <td>1</td>\n      <td>116.120.108.26</td>\n      <td>4439</td>\n      <td>10.135.130.72</td>\n      <td>0</td>\n      <td>tcp</td>\n      <td>09-04-2021 07:10:17</td>\n      <td>http://49.40.8.35:80/HNAP1/</td>\n      <td>alert</td>\n    </tr>\n    <tr>\n      <th>3</th>\n      <td>25</td>\n      <td>CS_InBound_NTP_Attack Event Detected</td>\n      <td>RDP Bruteforce Attempt 2 attack detected but n...</td>\n      <td>1</td>\n      <td>1.55.212.66</td>\n      <td>56235</td>\n      <td>10.144.34.109</td>\n      <td>0</td>\n      <td>tcp</td>\n      <td>09-04-2021 06:39:04</td>\n      <td>NaN</td>\n      <td>alert</td>\n    </tr>\n    <tr>\n      <th>4</th>\n      <td>25</td>\n      <td>CS_InBound_NTP_Attack Event Detected</td>\n      <td>Remote OS Command Injection attack blocked</td>\n      <td>1</td>\n      <td>62.16.51.110</td>\n      <td>51173</td>\n      <td>10.135.132.152</td>\n      <td>0</td>\n      <td>tcp</td>\n      <td>09-04-2021 04:29:03</td>\n      <td>http:///setup.cgi?next_file=netgear.cfg&amp;todo=s...</td>\n      <td>alert</td>\n    </tr>\n  </tbody>\n</table>\n</div>"
     },
     "metadata": {},
     "execution_count": 5
    }
   ],
   "source": [
    "EI.head()"
   ]
  },
  {
   "source": [
    "# Part 2"
   ],
   "cell_type": "markdown",
   "metadata": {}
  },
  {
   "cell_type": "code",
   "execution_count": 6,
   "metadata": {},
   "outputs": [],
   "source": [
    "PivotII = II[['Subcategory','Destination IP','Source IP']]\n",
    "PivotEI = EI[['Subcategory','Destination IP','Source IP']]"
   ]
  },
  {
   "cell_type": "code",
   "execution_count": 7,
   "metadata": {},
   "outputs": [
    {
     "output_type": "execute_result",
     "data": {
      "text/plain": [
       "                                         Subcategory Destination IP  \\\n",
       "0  P2P Torrent Traffic 5 attack detected but not ...   10.141.49.44   \n",
       "1  P2P Torrent Traffic 5 attack detected but not ...   10.141.49.44   \n",
       "2  P2P Torrent Traffic 5 attack detected but not ...   10.141.49.44   \n",
       "3  P2P Torrent Traffic 5 attack detected but not ...   10.141.49.44   \n",
       "4  P2P Torrent Traffic 5 attack detected but not ...   10.141.49.44   \n",
       "\n",
       "       Source IP  \n",
       "0  10.137.216.17  \n",
       "1  10.137.216.10  \n",
       "2  10.137.216.34  \n",
       "3  10.137.216.10  \n",
       "4  10.137.216.34  "
      ],
      "text/html": "<div>\n<style scoped>\n    .dataframe tbody tr th:only-of-type {\n        vertical-align: middle;\n    }\n\n    .dataframe tbody tr th {\n        vertical-align: top;\n    }\n\n    .dataframe thead th {\n        text-align: right;\n    }\n</style>\n<table border=\"1\" class=\"dataframe\">\n  <thead>\n    <tr style=\"text-align: right;\">\n      <th></th>\n      <th>Subcategory</th>\n      <th>Destination IP</th>\n      <th>Source IP</th>\n    </tr>\n  </thead>\n  <tbody>\n    <tr>\n      <th>0</th>\n      <td>P2P Torrent Traffic 5 attack detected but not ...</td>\n      <td>10.141.49.44</td>\n      <td>10.137.216.17</td>\n    </tr>\n    <tr>\n      <th>1</th>\n      <td>P2P Torrent Traffic 5 attack detected but not ...</td>\n      <td>10.141.49.44</td>\n      <td>10.137.216.10</td>\n    </tr>\n    <tr>\n      <th>2</th>\n      <td>P2P Torrent Traffic 5 attack detected but not ...</td>\n      <td>10.141.49.44</td>\n      <td>10.137.216.34</td>\n    </tr>\n    <tr>\n      <th>3</th>\n      <td>P2P Torrent Traffic 5 attack detected but not ...</td>\n      <td>10.141.49.44</td>\n      <td>10.137.216.10</td>\n    </tr>\n    <tr>\n      <th>4</th>\n      <td>P2P Torrent Traffic 5 attack detected but not ...</td>\n      <td>10.141.49.44</td>\n      <td>10.137.216.34</td>\n    </tr>\n  </tbody>\n</table>\n</div>"
     },
     "metadata": {},
     "execution_count": 7
    }
   ],
   "source": [
    "PivotII.head()"
   ]
  },
  {
   "cell_type": "code",
   "execution_count": 8,
   "metadata": {},
   "outputs": [
    {
     "output_type": "execute_result",
     "data": {
      "text/plain": [
       "                                         Subcategory  Destination IP  \\\n",
       "0  Malicious Scan Attempt 2 attack detected but n...    10.63.58.173   \n",
       "1     D-Link Router Command Injection attack blocked    10.63.58.173   \n",
       "2     D-Link Router Command Injection attack blocked   10.135.130.72   \n",
       "3  RDP Bruteforce Attempt 2 attack detected but n...   10.144.34.109   \n",
       "4         Remote OS Command Injection attack blocked  10.135.132.152   \n",
       "\n",
       "        Source IP  \n",
       "0    47.89.192.12  \n",
       "1  103.217.123.42  \n",
       "2  116.120.108.26  \n",
       "3     1.55.212.66  \n",
       "4    62.16.51.110  "
      ],
      "text/html": "<div>\n<style scoped>\n    .dataframe tbody tr th:only-of-type {\n        vertical-align: middle;\n    }\n\n    .dataframe tbody tr th {\n        vertical-align: top;\n    }\n\n    .dataframe thead th {\n        text-align: right;\n    }\n</style>\n<table border=\"1\" class=\"dataframe\">\n  <thead>\n    <tr style=\"text-align: right;\">\n      <th></th>\n      <th>Subcategory</th>\n      <th>Destination IP</th>\n      <th>Source IP</th>\n    </tr>\n  </thead>\n  <tbody>\n    <tr>\n      <th>0</th>\n      <td>Malicious Scan Attempt 2 attack detected but n...</td>\n      <td>10.63.58.173</td>\n      <td>47.89.192.12</td>\n    </tr>\n    <tr>\n      <th>1</th>\n      <td>D-Link Router Command Injection attack blocked</td>\n      <td>10.63.58.173</td>\n      <td>103.217.123.42</td>\n    </tr>\n    <tr>\n      <th>2</th>\n      <td>D-Link Router Command Injection attack blocked</td>\n      <td>10.135.130.72</td>\n      <td>116.120.108.26</td>\n    </tr>\n    <tr>\n      <th>3</th>\n      <td>RDP Bruteforce Attempt 2 attack detected but n...</td>\n      <td>10.144.34.109</td>\n      <td>1.55.212.66</td>\n    </tr>\n    <tr>\n      <th>4</th>\n      <td>Remote OS Command Injection attack blocked</td>\n      <td>10.135.132.152</td>\n      <td>62.16.51.110</td>\n    </tr>\n  </tbody>\n</table>\n</div>"
     },
     "metadata": {},
     "execution_count": 8
    }
   ],
   "source": [
    "PivotEI.head()"
   ]
  },
  {
   "cell_type": "code",
   "execution_count": 11,
   "metadata": {},
   "outputs": [
    {
     "output_type": "execute_result",
     "data": {
      "text/plain": [
       "                                          Subcategory        Agent IP  \\\n",
       "0   Malicious Scan Attempt 2 attack detected but n...    10.63.58.173   \n",
       "1      D-Link Router Command Injection attack blocked    10.63.58.173   \n",
       "2      D-Link Router Command Injection attack blocked   10.135.130.72   \n",
       "3   RDP Bruteforce Attempt 2 attack detected but n...   10.144.34.109   \n",
       "4          Remote OS Command Injection attack blocked  10.135.132.152   \n",
       "..                                                ...             ...   \n",
       "86  Remote Command Injection Activity 2 attack blo...   10.135.130.74   \n",
       "87  Gpon Router Cmd Injection CVE-2018-10562 attac...   10.135.130.74   \n",
       "88          XML External Entity Attack attack blocked    10.63.58.173   \n",
       "89              Malicious Scan Request attack blocked    10.63.58.173   \n",
       "90  ThinkPHP getShell Remote Code Execution attack...    10.63.58.173   \n",
       "\n",
       "       Attacker IP  \n",
       "0     47.89.192.12  \n",
       "1   103.217.123.42  \n",
       "2   116.120.108.26  \n",
       "3      1.55.212.66  \n",
       "4     62.16.51.110  \n",
       "..             ...  \n",
       "86   178.175.60.58  \n",
       "87   178.175.60.58  \n",
       "88  45.155.205.211  \n",
       "89  45.155.205.211  \n",
       "90  45.155.205.211  \n",
       "\n",
       "[91 rows x 3 columns]"
      ],
      "text/html": "<div>\n<style scoped>\n    .dataframe tbody tr th:only-of-type {\n        vertical-align: middle;\n    }\n\n    .dataframe tbody tr th {\n        vertical-align: top;\n    }\n\n    .dataframe thead th {\n        text-align: right;\n    }\n</style>\n<table border=\"1\" class=\"dataframe\">\n  <thead>\n    <tr style=\"text-align: right;\">\n      <th></th>\n      <th>Subcategory</th>\n      <th>Agent IP</th>\n      <th>Attacker IP</th>\n    </tr>\n  </thead>\n  <tbody>\n    <tr>\n      <th>0</th>\n      <td>Malicious Scan Attempt 2 attack detected but n...</td>\n      <td>10.63.58.173</td>\n      <td>47.89.192.12</td>\n    </tr>\n    <tr>\n      <th>1</th>\n      <td>D-Link Router Command Injection attack blocked</td>\n      <td>10.63.58.173</td>\n      <td>103.217.123.42</td>\n    </tr>\n    <tr>\n      <th>2</th>\n      <td>D-Link Router Command Injection attack blocked</td>\n      <td>10.135.130.72</td>\n      <td>116.120.108.26</td>\n    </tr>\n    <tr>\n      <th>3</th>\n      <td>RDP Bruteforce Attempt 2 attack detected but n...</td>\n      <td>10.144.34.109</td>\n      <td>1.55.212.66</td>\n    </tr>\n    <tr>\n      <th>4</th>\n      <td>Remote OS Command Injection attack blocked</td>\n      <td>10.135.132.152</td>\n      <td>62.16.51.110</td>\n    </tr>\n    <tr>\n      <th>...</th>\n      <td>...</td>\n      <td>...</td>\n      <td>...</td>\n    </tr>\n    <tr>\n      <th>86</th>\n      <td>Remote Command Injection Activity 2 attack blo...</td>\n      <td>10.135.130.74</td>\n      <td>178.175.60.58</td>\n    </tr>\n    <tr>\n      <th>87</th>\n      <td>Gpon Router Cmd Injection CVE-2018-10562 attac...</td>\n      <td>10.135.130.74</td>\n      <td>178.175.60.58</td>\n    </tr>\n    <tr>\n      <th>88</th>\n      <td>XML External Entity Attack attack blocked</td>\n      <td>10.63.58.173</td>\n      <td>45.155.205.211</td>\n    </tr>\n    <tr>\n      <th>89</th>\n      <td>Malicious Scan Request attack blocked</td>\n      <td>10.63.58.173</td>\n      <td>45.155.205.211</td>\n    </tr>\n    <tr>\n      <th>90</th>\n      <td>ThinkPHP getShell Remote Code Execution attack...</td>\n      <td>10.63.58.173</td>\n      <td>45.155.205.211</td>\n    </tr>\n  </tbody>\n</table>\n<p>91 rows × 3 columns</p>\n</div>"
     },
     "metadata": {},
     "execution_count": 11
    }
   ],
   "source": [
    "PivotEI.rename(columns={'Destination IP' : 'Agent IP','Source IP' : 'Attacker IP'})"
   ]
  },
  {
   "cell_type": "code",
   "execution_count": 12,
   "metadata": {},
   "outputs": [
    {
     "output_type": "execute_result",
     "data": {
      "text/plain": [
       "                                          Subcategory      Agent IP  \\\n",
       "0   P2P Torrent Traffic 5 attack detected but not ...  10.141.49.44   \n",
       "1   P2P Torrent Traffic 5 attack detected but not ...  10.141.49.44   \n",
       "2   P2P Torrent Traffic 5 attack detected but not ...  10.141.49.44   \n",
       "3   P2P Torrent Traffic 5 attack detected but not ...  10.141.49.44   \n",
       "4   P2P Torrent Traffic 5 attack detected but not ...  10.141.49.44   \n",
       "5   P2P Torrent Traffic 5 attack detected but not ...  10.141.49.44   \n",
       "6   P2P Torrent Traffic 5 attack detected but not ...  10.141.49.44   \n",
       "7   P2P Torrent Traffic 5 attack detected but not ...  10.141.49.44   \n",
       "8   P2P Torrent Traffic 5 attack detected but not ...  10.141.49.44   \n",
       "9   P2P Torrent Traffic 5 attack detected but not ...  10.141.49.44   \n",
       "10  P2P Torrent Traffic 5 attack detected but not ...  10.141.49.44   \n",
       "11  P2P Torrent Traffic 5 attack detected but not ...  10.141.49.44   \n",
       "12  P2P Torrent Traffic 5 attack detected but not ...  10.141.49.44   \n",
       "13  P2P Torrent Traffic 5 attack detected but not ...  10.141.49.44   \n",
       "14  P2P Torrent Traffic 5 attack detected but not ...  10.141.49.44   \n",
       "15  P2P Torrent Traffic 5 attack detected but not ...  10.141.49.44   \n",
       "\n",
       "      Attacker IP  \n",
       "0   10.137.216.17  \n",
       "1   10.137.216.10  \n",
       "2   10.137.216.34  \n",
       "3   10.137.216.10  \n",
       "4   10.137.216.34  \n",
       "5   10.137.216.28  \n",
       "6   10.137.216.32  \n",
       "7   10.137.216.28  \n",
       "8   10.137.216.35  \n",
       "9   10.137.216.36  \n",
       "10  10.137.216.22  \n",
       "11  10.137.216.36  \n",
       "12  10.137.216.40  \n",
       "13  10.137.216.39  \n",
       "14  10.137.216.39  \n",
       "15  10.137.216.34  "
      ],
      "text/html": "<div>\n<style scoped>\n    .dataframe tbody tr th:only-of-type {\n        vertical-align: middle;\n    }\n\n    .dataframe tbody tr th {\n        vertical-align: top;\n    }\n\n    .dataframe thead th {\n        text-align: right;\n    }\n</style>\n<table border=\"1\" class=\"dataframe\">\n  <thead>\n    <tr style=\"text-align: right;\">\n      <th></th>\n      <th>Subcategory</th>\n      <th>Agent IP</th>\n      <th>Attacker IP</th>\n    </tr>\n  </thead>\n  <tbody>\n    <tr>\n      <th>0</th>\n      <td>P2P Torrent Traffic 5 attack detected but not ...</td>\n      <td>10.141.49.44</td>\n      <td>10.137.216.17</td>\n    </tr>\n    <tr>\n      <th>1</th>\n      <td>P2P Torrent Traffic 5 attack detected but not ...</td>\n      <td>10.141.49.44</td>\n      <td>10.137.216.10</td>\n    </tr>\n    <tr>\n      <th>2</th>\n      <td>P2P Torrent Traffic 5 attack detected but not ...</td>\n      <td>10.141.49.44</td>\n      <td>10.137.216.34</td>\n    </tr>\n    <tr>\n      <th>3</th>\n      <td>P2P Torrent Traffic 5 attack detected but not ...</td>\n      <td>10.141.49.44</td>\n      <td>10.137.216.10</td>\n    </tr>\n    <tr>\n      <th>4</th>\n      <td>P2P Torrent Traffic 5 attack detected but not ...</td>\n      <td>10.141.49.44</td>\n      <td>10.137.216.34</td>\n    </tr>\n    <tr>\n      <th>5</th>\n      <td>P2P Torrent Traffic 5 attack detected but not ...</td>\n      <td>10.141.49.44</td>\n      <td>10.137.216.28</td>\n    </tr>\n    <tr>\n      <th>6</th>\n      <td>P2P Torrent Traffic 5 attack detected but not ...</td>\n      <td>10.141.49.44</td>\n      <td>10.137.216.32</td>\n    </tr>\n    <tr>\n      <th>7</th>\n      <td>P2P Torrent Traffic 5 attack detected but not ...</td>\n      <td>10.141.49.44</td>\n      <td>10.137.216.28</td>\n    </tr>\n    <tr>\n      <th>8</th>\n      <td>P2P Torrent Traffic 5 attack detected but not ...</td>\n      <td>10.141.49.44</td>\n      <td>10.137.216.35</td>\n    </tr>\n    <tr>\n      <th>9</th>\n      <td>P2P Torrent Traffic 5 attack detected but not ...</td>\n      <td>10.141.49.44</td>\n      <td>10.137.216.36</td>\n    </tr>\n    <tr>\n      <th>10</th>\n      <td>P2P Torrent Traffic 5 attack detected but not ...</td>\n      <td>10.141.49.44</td>\n      <td>10.137.216.22</td>\n    </tr>\n    <tr>\n      <th>11</th>\n      <td>P2P Torrent Traffic 5 attack detected but not ...</td>\n      <td>10.141.49.44</td>\n      <td>10.137.216.36</td>\n    </tr>\n    <tr>\n      <th>12</th>\n      <td>P2P Torrent Traffic 5 attack detected but not ...</td>\n      <td>10.141.49.44</td>\n      <td>10.137.216.40</td>\n    </tr>\n    <tr>\n      <th>13</th>\n      <td>P2P Torrent Traffic 5 attack detected but not ...</td>\n      <td>10.141.49.44</td>\n      <td>10.137.216.39</td>\n    </tr>\n    <tr>\n      <th>14</th>\n      <td>P2P Torrent Traffic 5 attack detected but not ...</td>\n      <td>10.141.49.44</td>\n      <td>10.137.216.39</td>\n    </tr>\n    <tr>\n      <th>15</th>\n      <td>P2P Torrent Traffic 5 attack detected but not ...</td>\n      <td>10.141.49.44</td>\n      <td>10.137.216.34</td>\n    </tr>\n  </tbody>\n</table>\n</div>"
     },
     "metadata": {},
     "execution_count": 12
    }
   ],
   "source": [
    "PivotII.rename(columns={'Destination IP' : 'Agent IP','Source IP' : 'Attacker IP'})"
   ]
  },
  {
   "cell_type": "code",
   "execution_count": null,
   "metadata": {},
   "outputs": [],
   "source": []
  }
 ],
 "metadata": {
  "colab": {
   "collapsed_sections": [],
   "name": "Graduate_Admission_Prediction.ipynb",
   "provenance": [],
   "toc_visible": true
  },
  "kernelspec": {
   "name": "python392jvsc74a57bd08507e6bbef37eeab2cd33b933a8b9d90e5ac7a462e5035eb92b0ca88d9b3cb44",
   "display_name": "Python 3.9.2 64-bit"
  },
  "language_info": {
   "codemirror_mode": {
    "name": "ipython",
    "version": 3
   },
   "file_extension": ".py",
   "mimetype": "text/x-python",
   "name": "python",
   "nbconvert_exporter": "python",
   "pygments_lexer": "ipython3",
   "version": "3.9.2"
  },
  "metadata": {
   "interpreter": {
    "hash": "8507e6bbef37eeab2cd33b933a8b9d90e5ac7a462e5035eb92b0ca88d9b3cb44"
   }
  }
 },
 "nbformat": 4,
 "nbformat_minor": 1
}