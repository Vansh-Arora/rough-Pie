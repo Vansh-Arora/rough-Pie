{
 "cells": [
  {
   "cell_type": "code",
   "execution_count": 1,
   "metadata": {},
   "outputs": [],
   "source": [
    "import pandas as pd"
   ]
  },
  {
   "cell_type": "code",
   "execution_count": 2,
   "metadata": {},
   "outputs": [],
   "source": [
    "path1 = r\"F:\\\\rough-Pie\\\\ip_split\\\\ItoI.csv\"\n",
    "path2 = r\"F:\\\\rough-Pie\\\\ip_split\\\\EtoI.csv\""
   ]
  },
  {
   "cell_type": "code",
   "execution_count": 3,
   "metadata": {},
   "outputs": [],
   "source": [
    "II = pd.read_csv(path1)\n",
    "EI = pd.read_csv(path2)"
   ]
  },
  {
   "source": [
    "# Internal to Internal"
   ],
   "cell_type": "markdown",
   "metadata": {}
  },
  {
   "cell_type": "code",
   "execution_count": 5,
   "metadata": {},
   "outputs": [
    {
     "output_type": "execute_result",
     "data": {
      "text/plain": [
       "                         Event Id            Last Time  \\\n",
       "0  144125084066381824|57817470840  02/28/2021 07:40:06   \n",
       "1  144125084066381824|57817470829  02/28/2021 07:40:06   \n",
       "2  144125084066381824|57817470828  02/28/2021 07:40:06   \n",
       "\n",
       "                           Rule Message Subcategory  Event Count    Source IP  \\\n",
       "0  CS_InBound_NTP_Attack Event Detected           E            1   172.16.0.1   \n",
       "1  CS_InBound_NTP_Attack Event Detected           F            1  192.168.0.1   \n",
       "2  CS_InBound_NTP_Attack Event Detected           G            1     10.2.1.1   \n",
       "\n",
       "   Source Port Destination IP  Destination Port  URL Protocol Event Subtype  \\\n",
       "0        54506       10.0.0.1                 0  NaN      tcp         alert   \n",
       "1        56254       10.2.2.1                 0  NaN      tcp         alert   \n",
       "2        58304     172.16.7.8                 0  NaN      tcp         alert   \n",
       "\n",
       "   Severity  Average Severity  \n",
       "0        25                25  \n",
       "1        25                25  \n",
       "2        25                25  "
      ],
      "text/html": "<div>\n<style scoped>\n    .dataframe tbody tr th:only-of-type {\n        vertical-align: middle;\n    }\n\n    .dataframe tbody tr th {\n        vertical-align: top;\n    }\n\n    .dataframe thead th {\n        text-align: right;\n    }\n</style>\n<table border=\"1\" class=\"dataframe\">\n  <thead>\n    <tr style=\"text-align: right;\">\n      <th></th>\n      <th>Event Id</th>\n      <th>Last Time</th>\n      <th>Rule Message</th>\n      <th>Subcategory</th>\n      <th>Event Count</th>\n      <th>Source IP</th>\n      <th>Source Port</th>\n      <th>Destination IP</th>\n      <th>Destination Port</th>\n      <th>URL</th>\n      <th>Protocol</th>\n      <th>Event Subtype</th>\n      <th>Severity</th>\n      <th>Average Severity</th>\n    </tr>\n  </thead>\n  <tbody>\n    <tr>\n      <th>0</th>\n      <td>144125084066381824|57817470840</td>\n      <td>02/28/2021 07:40:06</td>\n      <td>CS_InBound_NTP_Attack Event Detected</td>\n      <td>E</td>\n      <td>1</td>\n      <td>172.16.0.1</td>\n      <td>54506</td>\n      <td>10.0.0.1</td>\n      <td>0</td>\n      <td>NaN</td>\n      <td>tcp</td>\n      <td>alert</td>\n      <td>25</td>\n      <td>25</td>\n    </tr>\n    <tr>\n      <th>1</th>\n      <td>144125084066381824|57817470829</td>\n      <td>02/28/2021 07:40:06</td>\n      <td>CS_InBound_NTP_Attack Event Detected</td>\n      <td>F</td>\n      <td>1</td>\n      <td>192.168.0.1</td>\n      <td>56254</td>\n      <td>10.2.2.1</td>\n      <td>0</td>\n      <td>NaN</td>\n      <td>tcp</td>\n      <td>alert</td>\n      <td>25</td>\n      <td>25</td>\n    </tr>\n    <tr>\n      <th>2</th>\n      <td>144125084066381824|57817470828</td>\n      <td>02/28/2021 07:40:06</td>\n      <td>CS_InBound_NTP_Attack Event Detected</td>\n      <td>G</td>\n      <td>1</td>\n      <td>10.2.1.1</td>\n      <td>58304</td>\n      <td>172.16.7.8</td>\n      <td>0</td>\n      <td>NaN</td>\n      <td>tcp</td>\n      <td>alert</td>\n      <td>25</td>\n      <td>25</td>\n    </tr>\n  </tbody>\n</table>\n</div>"
     },
     "metadata": {},
     "execution_count": 5
    }
   ],
   "source": [
    "II.head()"
   ]
  },
  {
   "source": [
    "# External to Internal"
   ],
   "cell_type": "markdown",
   "metadata": {}
  },
  {
   "cell_type": "code",
   "execution_count": 6,
   "metadata": {},
   "outputs": [
    {
     "output_type": "execute_result",
     "data": {
      "text/plain": [
       "                         Event Id            Last Time  \\\n",
       "0  144125084066381824|57824693052  02/28/2021 07:56:35   \n",
       "1  144125084066381824|57824693051  02/28/2021 07:56:34   \n",
       "2  144125084066381824|57824693050  02/28/2021 07:56:34   \n",
       "3  144125084066381824|57824693049  02/28/2021 07:56:33   \n",
       "4  144125084066381824|57818239942  02/28/2021 06:26:47   \n",
       "\n",
       "                            Rule Message Subcategory  Event Count  \\\n",
       "0  CS_OutBound_NTP_Attack Event Detected           A            1   \n",
       "1  CS_OutBound_NTP_Attack Event Detected           B            1   \n",
       "2  CS_OutBound_NTP_Attack Event Detected           C            1   \n",
       "3  CS_OutBound_NTP_Attack Event Detected           D            1   \n",
       "4   CS_InBound_NTP_Attack Event Detected           H            1   \n",
       "\n",
       "        Source IP Source Port  Destination IP  Destination Port  \\\n",
       "0       189.0.1.1        http        10.2.1.1              3677   \n",
       "1      120.0.0.1         http       10.2.3.1.              1887   \n",
       "2        12.0.0.1        http        10.2.3.4             14341   \n",
       "3  180.252.52.178        http       10.98.2.0             20930   \n",
       "4    45.133.1.133       38628  10.135.140.146                 0   \n",
       "\n",
       "                               URL Protocol Event Subtype  Severity  \\\n",
       "0   http://49.40.22.81/public/.env      tcp         alert        25   \n",
       "1  http://49.40.22.81/storage/.env      tcp         alert        25   \n",
       "2   http://49.40.22.81/vendor/.env      tcp         alert        25   \n",
       "3          http://49.40.22.81/.env      tcp         alert        25   \n",
       "4                      http:///1.1      tcp         alert        25   \n",
       "\n",
       "   Average Severity  \n",
       "0                25  \n",
       "1                25  \n",
       "2                25  \n",
       "3                25  \n",
       "4                25  "
      ],
      "text/html": "<div>\n<style scoped>\n    .dataframe tbody tr th:only-of-type {\n        vertical-align: middle;\n    }\n\n    .dataframe tbody tr th {\n        vertical-align: top;\n    }\n\n    .dataframe thead th {\n        text-align: right;\n    }\n</style>\n<table border=\"1\" class=\"dataframe\">\n  <thead>\n    <tr style=\"text-align: right;\">\n      <th></th>\n      <th>Event Id</th>\n      <th>Last Time</th>\n      <th>Rule Message</th>\n      <th>Subcategory</th>\n      <th>Event Count</th>\n      <th>Source IP</th>\n      <th>Source Port</th>\n      <th>Destination IP</th>\n      <th>Destination Port</th>\n      <th>URL</th>\n      <th>Protocol</th>\n      <th>Event Subtype</th>\n      <th>Severity</th>\n      <th>Average Severity</th>\n    </tr>\n  </thead>\n  <tbody>\n    <tr>\n      <th>0</th>\n      <td>144125084066381824|57824693052</td>\n      <td>02/28/2021 07:56:35</td>\n      <td>CS_OutBound_NTP_Attack Event Detected</td>\n      <td>A</td>\n      <td>1</td>\n      <td>189.0.1.1</td>\n      <td>http</td>\n      <td>10.2.1.1</td>\n      <td>3677</td>\n      <td>http://49.40.22.81/public/.env</td>\n      <td>tcp</td>\n      <td>alert</td>\n      <td>25</td>\n      <td>25</td>\n    </tr>\n    <tr>\n      <th>1</th>\n      <td>144125084066381824|57824693051</td>\n      <td>02/28/2021 07:56:34</td>\n      <td>CS_OutBound_NTP_Attack Event Detected</td>\n      <td>B</td>\n      <td>1</td>\n      <td>120.0.0.1</td>\n      <td>http</td>\n      <td>10.2.3.1.</td>\n      <td>1887</td>\n      <td>http://49.40.22.81/storage/.env</td>\n      <td>tcp</td>\n      <td>alert</td>\n      <td>25</td>\n      <td>25</td>\n    </tr>\n    <tr>\n      <th>2</th>\n      <td>144125084066381824|57824693050</td>\n      <td>02/28/2021 07:56:34</td>\n      <td>CS_OutBound_NTP_Attack Event Detected</td>\n      <td>C</td>\n      <td>1</td>\n      <td>12.0.0.1</td>\n      <td>http</td>\n      <td>10.2.3.4</td>\n      <td>14341</td>\n      <td>http://49.40.22.81/vendor/.env</td>\n      <td>tcp</td>\n      <td>alert</td>\n      <td>25</td>\n      <td>25</td>\n    </tr>\n    <tr>\n      <th>3</th>\n      <td>144125084066381824|57824693049</td>\n      <td>02/28/2021 07:56:33</td>\n      <td>CS_OutBound_NTP_Attack Event Detected</td>\n      <td>D</td>\n      <td>1</td>\n      <td>180.252.52.178</td>\n      <td>http</td>\n      <td>10.98.2.0</td>\n      <td>20930</td>\n      <td>http://49.40.22.81/.env</td>\n      <td>tcp</td>\n      <td>alert</td>\n      <td>25</td>\n      <td>25</td>\n    </tr>\n    <tr>\n      <th>4</th>\n      <td>144125084066381824|57818239942</td>\n      <td>02/28/2021 06:26:47</td>\n      <td>CS_InBound_NTP_Attack Event Detected</td>\n      <td>H</td>\n      <td>1</td>\n      <td>45.133.1.133</td>\n      <td>38628</td>\n      <td>10.135.140.146</td>\n      <td>0</td>\n      <td>http:///1.1</td>\n      <td>tcp</td>\n      <td>alert</td>\n      <td>25</td>\n      <td>25</td>\n    </tr>\n  </tbody>\n</table>\n</div>"
     },
     "metadata": {},
     "execution_count": 6
    }
   ],
   "source": [
    "EI.head()"
   ]
  },
  {
   "cell_type": "code",
   "execution_count": null,
   "metadata": {},
   "outputs": [],
   "source": []
  }
 ],
 "metadata": {
  "colab": {
   "collapsed_sections": [],
   "name": "Graduate_Admission_Prediction.ipynb",
   "provenance": [],
   "toc_visible": true
  },
  "kernelspec": {
   "name": "python392jvsc74a57bd08507e6bbef37eeab2cd33b933a8b9d90e5ac7a462e5035eb92b0ca88d9b3cb44",
   "display_name": "Python 3.9.2 64-bit"
  },
  "language_info": {
   "codemirror_mode": {
    "name": "ipython",
    "version": 3
   },
   "file_extension": ".py",
   "mimetype": "text/x-python",
   "name": "python",
   "nbconvert_exporter": "python",
   "pygments_lexer": "ipython3",
   "version": "3.9.2"
  },
  "metadata": {
   "interpreter": {
    "hash": "8507e6bbef37eeab2cd33b933a8b9d90e5ac7a462e5035eb92b0ca88d9b3cb44"
   }
  }
 },
 "nbformat": 4,
 "nbformat_minor": 1
}